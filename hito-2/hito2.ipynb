{
  "cells": [
    {
      "cell_type": "code",
      "execution_count": 24,
      "metadata": {
        "id": "iGb3M3PVKQQT"
      },
      "outputs": [],
      "source": [
        "#Se importa la data\n",
        "import pandas as pd\n",
        "data = pd.read_csv('https://raw.githubusercontent.com/init-nahuel/project-data-mining/main/data/clean_data_hito2.csv', delimiter = \",\" )"
      ]
    },
    {
      "cell_type": "code",
      "execution_count": 25,
      "metadata": {
        "colab": {
          "base_uri": "https://localhost:8080/",
          "height": 255
        },
        "id": "SGlSVRx6LRdi",
        "outputId": "5fe60852-4a73-41ea-f870-7febe093f17f"
      },
      "outputs": [
        {
          "data": {
            "text/html": [
              "<div>\n",
              "<style scoped>\n",
              "    .dataframe tbody tr th:only-of-type {\n",
              "        vertical-align: middle;\n",
              "    }\n",
              "\n",
              "    .dataframe tbody tr th {\n",
              "        vertical-align: top;\n",
              "    }\n",
              "\n",
              "    .dataframe thead th {\n",
              "        text-align: right;\n",
              "    }\n",
              "</style>\n",
              "<table border=\"1\" class=\"dataframe\">\n",
              "  <thead>\n",
              "    <tr style=\"text-align: right;\">\n",
              "      <th></th>\n",
              "      <th>age</th>\n",
              "      <th>sex</th>\n",
              "      <th>on_thyroxine</th>\n",
              "      <th>query_on_thyroxine</th>\n",
              "      <th>on_antithyroid_meds</th>\n",
              "      <th>sick</th>\n",
              "      <th>pregnant</th>\n",
              "      <th>thyroid_surgery</th>\n",
              "      <th>I131_treatment</th>\n",
              "      <th>query_hypothyroid</th>\n",
              "      <th>...</th>\n",
              "      <th>tumor</th>\n",
              "      <th>hypopituitary</th>\n",
              "      <th>psych</th>\n",
              "      <th>TSH</th>\n",
              "      <th>T3</th>\n",
              "      <th>TT4</th>\n",
              "      <th>T4U</th>\n",
              "      <th>FTI</th>\n",
              "      <th>target</th>\n",
              "      <th>grupo_edad</th>\n",
              "    </tr>\n",
              "  </thead>\n",
              "  <tbody>\n",
              "    <tr>\n",
              "      <th>0</th>\n",
              "      <td>29</td>\n",
              "      <td>F</td>\n",
              "      <td>f</td>\n",
              "      <td>f</td>\n",
              "      <td>f</td>\n",
              "      <td>f</td>\n",
              "      <td>f</td>\n",
              "      <td>f</td>\n",
              "      <td>f</td>\n",
              "      <td>t</td>\n",
              "      <td>...</td>\n",
              "      <td>f</td>\n",
              "      <td>f</td>\n",
              "      <td>f</td>\n",
              "      <td>0.3</td>\n",
              "      <td>0.0</td>\n",
              "      <td>0.0</td>\n",
              "      <td>0.0</td>\n",
              "      <td>0.0</td>\n",
              "      <td>-</td>\n",
              "      <td>19-30</td>\n",
              "    </tr>\n",
              "    <tr>\n",
              "      <th>1</th>\n",
              "      <td>29</td>\n",
              "      <td>F</td>\n",
              "      <td>f</td>\n",
              "      <td>f</td>\n",
              "      <td>f</td>\n",
              "      <td>f</td>\n",
              "      <td>f</td>\n",
              "      <td>f</td>\n",
              "      <td>f</td>\n",
              "      <td>f</td>\n",
              "      <td>...</td>\n",
              "      <td>f</td>\n",
              "      <td>f</td>\n",
              "      <td>f</td>\n",
              "      <td>1.6</td>\n",
              "      <td>1.9</td>\n",
              "      <td>128.0</td>\n",
              "      <td>0.0</td>\n",
              "      <td>0.0</td>\n",
              "      <td>-</td>\n",
              "      <td>19-30</td>\n",
              "    </tr>\n",
              "    <tr>\n",
              "      <th>2</th>\n",
              "      <td>41</td>\n",
              "      <td>F</td>\n",
              "      <td>f</td>\n",
              "      <td>f</td>\n",
              "      <td>f</td>\n",
              "      <td>f</td>\n",
              "      <td>f</td>\n",
              "      <td>f</td>\n",
              "      <td>f</td>\n",
              "      <td>f</td>\n",
              "      <td>...</td>\n",
              "      <td>f</td>\n",
              "      <td>f</td>\n",
              "      <td>f</td>\n",
              "      <td>0.0</td>\n",
              "      <td>0.0</td>\n",
              "      <td>0.0</td>\n",
              "      <td>0.0</td>\n",
              "      <td>0.0</td>\n",
              "      <td>-</td>\n",
              "      <td>41-50</td>\n",
              "    </tr>\n",
              "    <tr>\n",
              "      <th>3</th>\n",
              "      <td>36</td>\n",
              "      <td>F</td>\n",
              "      <td>f</td>\n",
              "      <td>f</td>\n",
              "      <td>f</td>\n",
              "      <td>f</td>\n",
              "      <td>f</td>\n",
              "      <td>f</td>\n",
              "      <td>f</td>\n",
              "      <td>f</td>\n",
              "      <td>...</td>\n",
              "      <td>f</td>\n",
              "      <td>f</td>\n",
              "      <td>f</td>\n",
              "      <td>0.0</td>\n",
              "      <td>0.0</td>\n",
              "      <td>0.0</td>\n",
              "      <td>0.0</td>\n",
              "      <td>0.0</td>\n",
              "      <td>-</td>\n",
              "      <td>31-40</td>\n",
              "    </tr>\n",
              "    <tr>\n",
              "      <th>4</th>\n",
              "      <td>32</td>\n",
              "      <td>F</td>\n",
              "      <td>f</td>\n",
              "      <td>f</td>\n",
              "      <td>f</td>\n",
              "      <td>f</td>\n",
              "      <td>f</td>\n",
              "      <td>f</td>\n",
              "      <td>f</td>\n",
              "      <td>f</td>\n",
              "      <td>...</td>\n",
              "      <td>f</td>\n",
              "      <td>f</td>\n",
              "      <td>f</td>\n",
              "      <td>0.0</td>\n",
              "      <td>0.0</td>\n",
              "      <td>0.0</td>\n",
              "      <td>0.0</td>\n",
              "      <td>0.0</td>\n",
              "      <td>S</td>\n",
              "      <td>31-40</td>\n",
              "    </tr>\n",
              "  </tbody>\n",
              "</table>\n",
              "<p>5 rows × 23 columns</p>\n",
              "</div>"
            ],
            "text/plain": [
              "   age sex on_thyroxine query_on_thyroxine on_antithyroid_meds sick pregnant  \\\n",
              "0   29   F            f                  f                   f    f        f   \n",
              "1   29   F            f                  f                   f    f        f   \n",
              "2   41   F            f                  f                   f    f        f   \n",
              "3   36   F            f                  f                   f    f        f   \n",
              "4   32   F            f                  f                   f    f        f   \n",
              "\n",
              "  thyroid_surgery I131_treatment query_hypothyroid  ... tumor hypopituitary  \\\n",
              "0               f              f                 t  ...     f             f   \n",
              "1               f              f                 f  ...     f             f   \n",
              "2               f              f                 f  ...     f             f   \n",
              "3               f              f                 f  ...     f             f   \n",
              "4               f              f                 f  ...     f             f   \n",
              "\n",
              "  psych  TSH   T3    TT4  T4U  FTI  target  grupo_edad  \n",
              "0     f  0.3  0.0    0.0  0.0  0.0       -       19-30  \n",
              "1     f  1.6  1.9  128.0  0.0  0.0       -       19-30  \n",
              "2     f  0.0  0.0    0.0  0.0  0.0       -       41-50  \n",
              "3     f  0.0  0.0    0.0  0.0  0.0       -       31-40  \n",
              "4     f  0.0  0.0    0.0  0.0  0.0       S       31-40  \n",
              "\n",
              "[5 rows x 23 columns]"
            ]
          },
          "execution_count": 25,
          "metadata": {},
          "output_type": "execute_result"
        }
      ],
      "source": [
        "#Muestra los primeros 5 valores de la base de datos\n",
        "data.head(5)"
      ]
    },
    {
      "cell_type": "code",
      "execution_count": 26,
      "metadata": {
        "colab": {
          "base_uri": "https://localhost:8080/"
        },
        "id": "T4N5fbnoKd4i",
        "outputId": "4b9c846b-cfc8-408b-90f0-27feea34723e"
      },
      "outputs": [
        {
          "name": "stdout",
          "output_type": "stream",
          "text": [
            "['age', 'sex', 'on_thyroxine', 'query_on_thyroxine', 'on_antithyroid_meds', 'sick', 'pregnant', 'thyroid_surgery', 'I131_treatment', 'query_hypothyroid', 'query_hyperthyroid', 'lithium', 'goitre', 'tumor', 'hypopituitary', 'psych', 'target', 'grupo_edad']\n"
          ]
        }
      ],
      "source": [
        "#seleccionamos columnas no numéricas tipo float64\n",
        "columnas_float = data.select_dtypes(exclude='float64').columns.tolist()\n",
        "print(columnas_float)"
      ]
    },
    {
      "cell_type": "code",
      "execution_count": 27,
      "metadata": {
        "id": "etBWPhtRKjEJ"
      },
      "outputs": [],
      "source": [
        "#se eliminan columnas no numericas, excepto 'target'\n",
        "df = data.drop(['sex', 'on_thyroxine', 'query_on_thyroxine', 'on_antithyroid_meds', 'sick', 'pregnant', 'thyroid_surgery', 'I131_treatment', 'query_hypothyroid', 'query_hyperthyroid', 'lithium', 'goitre', 'tumor', 'hypopituitary', 'psych', 'grupo_edad'], axis=1)\n",
        "#se elimina la columna 'age' de edad\n",
        "nuevo_df = df.drop(['age'], axis=1)"
      ]
    },
    {
      "cell_type": "code",
      "execution_count": 28,
      "metadata": {
        "colab": {
          "base_uri": "https://localhost:8080/",
          "height": 206
        },
        "id": "Jru1s4uiKlKx",
        "outputId": "cf2af063-ed54-4fb9-dddc-fa7f1426a63f"
      },
      "outputs": [
        {
          "data": {
            "text/html": [
              "<div>\n",
              "<style scoped>\n",
              "    .dataframe tbody tr th:only-of-type {\n",
              "        vertical-align: middle;\n",
              "    }\n",
              "\n",
              "    .dataframe tbody tr th {\n",
              "        vertical-align: top;\n",
              "    }\n",
              "\n",
              "    .dataframe thead th {\n",
              "        text-align: right;\n",
              "    }\n",
              "</style>\n",
              "<table border=\"1\" class=\"dataframe\">\n",
              "  <thead>\n",
              "    <tr style=\"text-align: right;\">\n",
              "      <th></th>\n",
              "      <th>TSH</th>\n",
              "      <th>T3</th>\n",
              "      <th>TT4</th>\n",
              "      <th>T4U</th>\n",
              "      <th>FTI</th>\n",
              "      <th>target</th>\n",
              "    </tr>\n",
              "  </thead>\n",
              "  <tbody>\n",
              "    <tr>\n",
              "      <th>0</th>\n",
              "      <td>0.3</td>\n",
              "      <td>0.0</td>\n",
              "      <td>0.0</td>\n",
              "      <td>0.0</td>\n",
              "      <td>0.0</td>\n",
              "      <td>-</td>\n",
              "    </tr>\n",
              "    <tr>\n",
              "      <th>1</th>\n",
              "      <td>1.6</td>\n",
              "      <td>1.9</td>\n",
              "      <td>128.0</td>\n",
              "      <td>0.0</td>\n",
              "      <td>0.0</td>\n",
              "      <td>-</td>\n",
              "    </tr>\n",
              "    <tr>\n",
              "      <th>2</th>\n",
              "      <td>0.0</td>\n",
              "      <td>0.0</td>\n",
              "      <td>0.0</td>\n",
              "      <td>0.0</td>\n",
              "      <td>0.0</td>\n",
              "      <td>-</td>\n",
              "    </tr>\n",
              "    <tr>\n",
              "      <th>3</th>\n",
              "      <td>0.0</td>\n",
              "      <td>0.0</td>\n",
              "      <td>0.0</td>\n",
              "      <td>0.0</td>\n",
              "      <td>0.0</td>\n",
              "      <td>-</td>\n",
              "    </tr>\n",
              "    <tr>\n",
              "      <th>4</th>\n",
              "      <td>0.0</td>\n",
              "      <td>0.0</td>\n",
              "      <td>0.0</td>\n",
              "      <td>0.0</td>\n",
              "      <td>0.0</td>\n",
              "      <td>S</td>\n",
              "    </tr>\n",
              "  </tbody>\n",
              "</table>\n",
              "</div>"
            ],
            "text/plain": [
              "   TSH   T3    TT4  T4U  FTI target\n",
              "0  0.3  0.0    0.0  0.0  0.0      -\n",
              "1  1.6  1.9  128.0  0.0  0.0      -\n",
              "2  0.0  0.0    0.0  0.0  0.0      -\n",
              "3  0.0  0.0    0.0  0.0  0.0      -\n",
              "4  0.0  0.0    0.0  0.0  0.0      S"
            ]
          },
          "execution_count": 28,
          "metadata": {},
          "output_type": "execute_result"
        }
      ],
      "source": [
        "nuevo_df.head()"
      ]
    },
    {
      "cell_type": "code",
      "execution_count": 29,
      "metadata": {
        "colab": {
          "base_uri": "https://localhost:8080/",
          "height": 206
        },
        "id": "qHrECva4Kl-R",
        "outputId": "fc2763d9-1551-4bb7-a174-e1f14bead767"
      },
      "outputs": [
        {
          "data": {
            "text/html": [
              "<div>\n",
              "<style scoped>\n",
              "    .dataframe tbody tr th:only-of-type {\n",
              "        vertical-align: middle;\n",
              "    }\n",
              "\n",
              "    .dataframe tbody tr th {\n",
              "        vertical-align: top;\n",
              "    }\n",
              "\n",
              "    .dataframe thead th {\n",
              "        text-align: right;\n",
              "    }\n",
              "</style>\n",
              "<table border=\"1\" class=\"dataframe\">\n",
              "  <thead>\n",
              "    <tr style=\"text-align: right;\">\n",
              "      <th></th>\n",
              "      <th>age</th>\n",
              "      <th>TSH</th>\n",
              "      <th>T3</th>\n",
              "      <th>TT4</th>\n",
              "      <th>T4U</th>\n",
              "      <th>FTI</th>\n",
              "      <th>target</th>\n",
              "    </tr>\n",
              "  </thead>\n",
              "  <tbody>\n",
              "    <tr>\n",
              "      <th>0</th>\n",
              "      <td>29</td>\n",
              "      <td>0.3</td>\n",
              "      <td>0.0</td>\n",
              "      <td>0.0</td>\n",
              "      <td>0.0</td>\n",
              "      <td>0.0</td>\n",
              "      <td>-</td>\n",
              "    </tr>\n",
              "    <tr>\n",
              "      <th>1</th>\n",
              "      <td>29</td>\n",
              "      <td>1.6</td>\n",
              "      <td>1.9</td>\n",
              "      <td>128.0</td>\n",
              "      <td>0.0</td>\n",
              "      <td>0.0</td>\n",
              "      <td>-</td>\n",
              "    </tr>\n",
              "    <tr>\n",
              "      <th>2</th>\n",
              "      <td>41</td>\n",
              "      <td>0.0</td>\n",
              "      <td>0.0</td>\n",
              "      <td>0.0</td>\n",
              "      <td>0.0</td>\n",
              "      <td>0.0</td>\n",
              "      <td>-</td>\n",
              "    </tr>\n",
              "    <tr>\n",
              "      <th>3</th>\n",
              "      <td>36</td>\n",
              "      <td>0.0</td>\n",
              "      <td>0.0</td>\n",
              "      <td>0.0</td>\n",
              "      <td>0.0</td>\n",
              "      <td>0.0</td>\n",
              "      <td>-</td>\n",
              "    </tr>\n",
              "    <tr>\n",
              "      <th>4</th>\n",
              "      <td>32</td>\n",
              "      <td>0.0</td>\n",
              "      <td>0.0</td>\n",
              "      <td>0.0</td>\n",
              "      <td>0.0</td>\n",
              "      <td>0.0</td>\n",
              "      <td>S</td>\n",
              "    </tr>\n",
              "  </tbody>\n",
              "</table>\n",
              "</div>"
            ],
            "text/plain": [
              "   age  TSH   T3    TT4  T4U  FTI target\n",
              "0   29  0.3  0.0    0.0  0.0  0.0      -\n",
              "1   29  1.6  1.9  128.0  0.0  0.0      -\n",
              "2   41  0.0  0.0    0.0  0.0  0.0      -\n",
              "3   36  0.0  0.0    0.0  0.0  0.0      -\n",
              "4   32  0.0  0.0    0.0  0.0  0.0      S"
            ]
          },
          "execution_count": 29,
          "metadata": {},
          "output_type": "execute_result"
        }
      ],
      "source": [
        "df.head()"
      ]
    },
    {
      "cell_type": "code",
      "execution_count": 30,
      "metadata": {
        "id": "zHNb826sKpNU"
      },
      "outputs": [],
      "source": [
        "#De acuerdo a lo visto en el hito 1, se agrupan las clases, aquellas tipo X|Y se asignaran a la clase \"consistente\", es decir, X.\n",
        "df['target'] = df['target'].replace(['-'], '0')#no hay comentarios sobre un diagnóstico específico CLASE 0\n",
        "df['target'] = df['target'].replace(['A', 'AK', 'B', 'C', 'C|I', 'D', 'D|R'], '1')#Hipertiroidismo CLASE 0\n",
        "df['target'] = df['target'].replace(['E', 'F', 'FK', 'G', 'GI', 'GK', 'GKJ', 'H|K'], '2')#Hipotiroidismo CLASE 2\n",
        "df['target'] = df['target'].replace(['I', 'J'], '3')#Proteina de unión CLASE 3\n",
        "df['target'] = df['target'].replace(['K', 'KJ'], '4')#Enfermedad no tiroidea CLASE 4\n",
        "df['target'] = df['target'].replace(['L', 'LJ', 'M', 'MI', 'MK', 'N'], '5')#Terapia de reemplazo CLASE 5\n",
        "df['target'] = df['target'].replace(['O', 'OI', 'P', 'Q'], '6')#Tratamiento antitiroideo CLASE 6\n",
        "df['target'] = df['target'].replace(['R', 'S'], '7')#Miscelaneas CLASE 7"
      ]
    },
    {
      "cell_type": "code",
      "execution_count": 31,
      "metadata": {
        "id": "cwSkWcy9Kt8J"
      },
      "outputs": [],
      "source": [
        "#Division del dataset\n",
        "from sklearn.model_selection import train_test_split\n",
        "X = df.drop(columns=['target'])\n",
        "Y = df['target']\n",
        "X_train, X_test, y_train, y_test = train_test_split(X, Y, random_state=1, train_size = .8)"
      ]
    },
    {
      "cell_type": "code",
      "execution_count": 32,
      "metadata": {
        "colab": {
          "base_uri": "https://localhost:8080/",
          "height": 410
        },
        "id": "kHtNewu0M2GL",
        "outputId": "dedd5a90-b3a8-464f-e262-d67321023a64"
      },
      "outputs": [
        {
          "data": {
            "image/png": "[encoded data removed]",
            "text/plain": [
              "<Figure size 600x400 with 1 Axes>"
            ]
          },
          "metadata": {},
          "output_type": "display_data"
        }
      ],
      "source": [
        "import matplotlib.pyplot as plt\n",
        "#visualizamos el desbalance en el entrenamiento\n",
        "A =X_train\n",
        "B = y_train\n",
        "\n",
        "XY = pd.concat([A,B], axis=1)\n",
        "suma_por_clase_train = XY.groupby('target').size().reset_index(name='suma')\n",
        "\n",
        "nombres_clases = suma_por_clase_train['target']\n",
        "sumas = suma_por_clase_train['suma']\n",
        "# Crear un gráfico de barras\n",
        "plt.figure(figsize=(6, 4))\n",
        "barras=plt.bar(nombres_clases, sumas, color='royalblue')\n",
        "plt.xlabel('Clases')\n",
        "plt.ylabel('Suma')\n",
        "plt.title('Suma por Clase')\n",
        "plt.bar_label(barras)\n",
        "plt.show()"
      ]
    },
    {
      "cell_type": "code",
      "execution_count": 33,
      "metadata": {
        "id": "sbJcxKNRNbzw"
      },
      "outputs": [],
      "source": [
        "from imblearn.over_sampling import RandomOverSampler\n",
        "from imblearn.under_sampling import NearMiss\n",
        "#la estrategia a utilizar ser subsample a las clases mayoritarias y over a las minoritarias a 300\n",
        "#Undersampling con nearmiss\n",
        "us = NearMiss(sampling_strategy={'0':300, '2':300, '4':300}, version=2, n_neighbors=3)\n",
        "X_train_res, y_train_res = us.fit_resample(X_train, y_train)\n",
        "#Oversampling random\n",
        "ros = RandomOverSampler(sampling_strategy={'1':300,'5':300,'6':300,'7':300}, random_state=8)\n",
        "X_train_re, y_train_re = ros.fit_resample(X_train_res, y_train_res)"
      ]
    },
    {
      "cell_type": "code",
      "execution_count": 34,
      "metadata": {
        "colab": {
          "base_uri": "https://localhost:8080/",
          "height": 410
        },
        "id": "_65U4J9nMiDq",
        "outputId": "8eb0907e-27f5-4d8f-87cb-ad57ffe159e4"
      },
      "outputs": [
        {
          "data": {
            "image/png": "[encoded data removed]",
            "text/plain": [
              "<Figure size 600x400 with 1 Axes>"
            ]
          },
          "metadata": {},
          "output_type": "display_data"
        }
      ],
      "source": [
        "C=X_train_re\n",
        "D=y_train_re\n",
        "\n",
        "XY2 = pd.concat([C,D], axis=1)\n",
        "suma_por_clase_train_re = XY2.groupby('target').size().reset_index(name='suma')\n",
        "\n",
        "nombres_clases = suma_por_clase_train_re['target']\n",
        "sumas = suma_por_clase_train_re['suma']\n",
        "# Crear un gráfico de barras\n",
        "plt.figure(figsize=(6, 4))\n",
        "barras=plt.bar(nombres_clases, sumas, color='royalblue')\n",
        "plt.xlabel('Clases')\n",
        "plt.ylabel('Suma')\n",
        "plt.title('Suma por Clase con Balance')\n",
        "plt.bar_label(barras)\n",
        "plt.show()"
      ]
    },
    {
      "cell_type": "code",
      "execution_count": 35,
      "metadata": {
        "id": "x4ap8pl_TrlX"
      },
      "outputs": [],
      "source": [
        "#Nomalización de los datos\n",
        "from sklearn.preprocessing import StandardScaler\n",
        "\n",
        "scaler = StandardScaler()\n",
        "X_train = scaler.fit_transform(X_train_re)\n",
        "X_test = scaler.transform(X_test)"
      ]
    },
    {
      "cell_type": "code",
      "execution_count": 36,
      "metadata": {
        "id": "Uy32wd8STtGN"
      },
      "outputs": [],
      "source": [
        "from sklearn.model_selection import GridSearchCV\n",
        "from sklearn.neighbors import KNeighborsClassifier\n",
        "#inspección de parametros para obtener el mejor modelo knn para nuestros datos\n",
        "\n",
        "param_grid = {\n",
        "    'n_neighbors': [3, 5, 7, 9, 11],\n",
        "    'p': [1, 2],\n",
        "    'weights': ['uniform', 'distance']\n",
        "}\n",
        "\n",
        "# Crea una instancia del modelo k-NN\n",
        "knn = KNeighborsClassifier()\n",
        "\n",
        "# Realiza la búsqueda de hiperparámetros con validación cruzada\n",
        "grid_search = GridSearchCV(knn, param_grid, cv=5, scoring='accuracy')\n",
        "grid_search.fit(X_train, y_train_re) #notar el y train utilizado\n",
        "\n",
        "# Obtiene los mejores hiperparámetros\n",
        "best_params = grid_search.best_params_"
      ]
    },
    {
      "cell_type": "code",
      "execution_count": 37,
      "metadata": {
        "colab": {
          "base_uri": "https://localhost:8080/"
        },
        "id": "lWTDZa1yVp7g",
        "outputId": "7ce19e83-be7a-4e24-91d3-970edfa999ba"
      },
      "outputs": [
        {
          "data": {
            "text/plain": [
              "{'n_neighbors': 3, 'p': 2, 'weights': 'distance'}"
            ]
          },
          "execution_count": 37,
          "metadata": {},
          "output_type": "execute_result"
        }
      ],
      "source": [
        "best_params"
      ]
    },
    {
      "cell_type": "markdown",
      "metadata": {},
      "source": [
        "## Naive Bayes\n",
        "\n",
        "A diferencia de knn que esta basado en metricas de distancia este modelo esta basado en el teorema de Bayes. Con esto obtendremos un modelos q estime determinados parametros para asi al entregarle datos nuevos podra determinar con cierta probabilidad la clase de estos.\n",
        "\n",
        "**OBS: Un supuesto muy importante que se realiza al ocupar este modelo es que se consideran que los atributos son independientes dado la clase.**\n",
        "\n",
        "Nuestro modelo en este caso predecira el diagnostico de un paciente segun los niveles hormonales con cierta probabilidad."
      ]
    },
    {
      "cell_type": "markdown",
      "metadata": {},
      "source": [
        "### Modelo Multinomial Naive bayes\n",
        "\n",
        "Este modelo es uno de los mas usados ademas de que posee una mayor utilidad cuando se utiliza datos discretos como el conteo de frecuencias."
      ]
    },
    {
      "cell_type": "code",
      "execution_count": 38,
      "metadata": {},
      "outputs": [
        {
          "ename": "ValueError",
          "evalue": "Negative values in data passed to MultinomialNB (input X)",
          "output_type": "error",
          "traceback": [
            "\u001b[0;31m---------------------------------------------------------------------------\u001b[0m",
            "\u001b[0;31mValueError\u001b[0m                                Traceback (most recent call last)",
            "\u001b[1;32m/home/nahuel/Documents/repos/myRepos/project-data-mining/hito-2/hito2.ipynb Cell 17\u001b[0m line \u001b[0;36m6\n\u001b[1;32m      <a href='vscode-notebook-cell:/home/nahuel/Documents/repos/myRepos/project-data-mining/hito-2/hito2.ipynb#X22sZmlsZQ%3D%3D?line=2'>3</a>\u001b[0m nb \u001b[39m=\u001b[39m MultinomialNB()\n\u001b[1;32m      <a href='vscode-notebook-cell:/home/nahuel/Documents/repos/myRepos/project-data-mining/hito-2/hito2.ipynb#X22sZmlsZQ%3D%3D?line=4'>5</a>\u001b[0m \u001b[39m# Se entrena el modelo\u001b[39;00m\n\u001b[0;32m----> <a href='vscode-notebook-cell:/home/nahuel/Documents/repos/myRepos/project-data-mining/hito-2/hito2.ipynb#X22sZmlsZQ%3D%3D?line=5'>6</a>\u001b[0m nb\u001b[39m.\u001b[39;49mfit(X_train, y_train_re)\n\u001b[1;32m      <a href='vscode-notebook-cell:/home/nahuel/Documents/repos/myRepos/project-data-mining/hito-2/hito2.ipynb#X22sZmlsZQ%3D%3D?line=7'>8</a>\u001b[0m \u001b[39m# Se realizan las predicciones\u001b[39;00m\n\u001b[1;32m      <a href='vscode-notebook-cell:/home/nahuel/Documents/repos/myRepos/project-data-mining/hito-2/hito2.ipynb#X22sZmlsZQ%3D%3D?line=8'>9</a>\u001b[0m y_pred_nb \u001b[39m=\u001b[39m nb\u001b[39m.\u001b[39mpredict(X_test)\n",
            "File \u001b[0;32m~/Documents/repos/myRepos/project-data-mining/data-mining/lib/python3.10/site-packages/sklearn/base.py:1152\u001b[0m, in \u001b[0;36m_fit_context.<locals>.decorator.<locals>.wrapper\u001b[0;34m(estimator, *args, **kwargs)\u001b[0m\n\u001b[1;32m   1145\u001b[0m     estimator\u001b[39m.\u001b[39m_validate_params()\n\u001b[1;32m   1147\u001b[0m \u001b[39mwith\u001b[39;00m config_context(\n\u001b[1;32m   1148\u001b[0m     skip_parameter_validation\u001b[39m=\u001b[39m(\n\u001b[1;32m   1149\u001b[0m         prefer_skip_nested_validation \u001b[39mor\u001b[39;00m global_skip_validation\n\u001b[1;32m   1150\u001b[0m     )\n\u001b[1;32m   1151\u001b[0m ):\n\u001b[0;32m-> 1152\u001b[0m     \u001b[39mreturn\u001b[39;00m fit_method(estimator, \u001b[39m*\u001b[39;49margs, \u001b[39m*\u001b[39;49m\u001b[39m*\u001b[39;49mkwargs)\n",
            "File \u001b[0;32m~/Documents/repos/myRepos/project-data-mining/data-mining/lib/python3.10/site-packages/sklearn/naive_bayes.py:772\u001b[0m, in \u001b[0;36m_BaseDiscreteNB.fit\u001b[0;34m(self, X, y, sample_weight)\u001b[0m\n\u001b[1;32m    770\u001b[0m n_classes \u001b[39m=\u001b[39m Y\u001b[39m.\u001b[39mshape[\u001b[39m1\u001b[39m]\n\u001b[1;32m    771\u001b[0m \u001b[39mself\u001b[39m\u001b[39m.\u001b[39m_init_counters(n_classes, n_features)\n\u001b[0;32m--> 772\u001b[0m \u001b[39mself\u001b[39;49m\u001b[39m.\u001b[39;49m_count(X, Y)\n\u001b[1;32m    773\u001b[0m alpha \u001b[39m=\u001b[39m \u001b[39mself\u001b[39m\u001b[39m.\u001b[39m_check_alpha()\n\u001b[1;32m    774\u001b[0m \u001b[39mself\u001b[39m\u001b[39m.\u001b[39m_update_feature_log_prob(alpha)\n",
            "File \u001b[0;32m~/Documents/repos/myRepos/project-data-mining/data-mining/lib/python3.10/site-packages/sklearn/naive_bayes.py:894\u001b[0m, in \u001b[0;36mMultinomialNB._count\u001b[0;34m(self, X, Y)\u001b[0m\n\u001b[1;32m    892\u001b[0m \u001b[39mdef\u001b[39;00m \u001b[39m_count\u001b[39m(\u001b[39mself\u001b[39m, X, Y):\n\u001b[1;32m    893\u001b[0m \u001b[39m    \u001b[39m\u001b[39m\"\"\"Count and smooth feature occurrences.\"\"\"\u001b[39;00m\n\u001b[0;32m--> 894\u001b[0m     check_non_negative(X, \u001b[39m\"\u001b[39;49m\u001b[39mMultinomialNB (input X)\u001b[39;49m\u001b[39m\"\u001b[39;49m)\n\u001b[1;32m    895\u001b[0m     \u001b[39mself\u001b[39m\u001b[39m.\u001b[39mfeature_count_ \u001b[39m+\u001b[39m\u001b[39m=\u001b[39m safe_sparse_dot(Y\u001b[39m.\u001b[39mT, X)\n\u001b[1;32m    896\u001b[0m     \u001b[39mself\u001b[39m\u001b[39m.\u001b[39mclass_count_ \u001b[39m+\u001b[39m\u001b[39m=\u001b[39m Y\u001b[39m.\u001b[39msum(axis\u001b[39m=\u001b[39m\u001b[39m0\u001b[39m)\n",
            "File \u001b[0;32m~/Documents/repos/myRepos/project-data-mining/data-mining/lib/python3.10/site-packages/sklearn/utils/validation.py:1489\u001b[0m, in \u001b[0;36mcheck_non_negative\u001b[0;34m(X, whom)\u001b[0m\n\u001b[1;32m   1486\u001b[0m     X_min \u001b[39m=\u001b[39m xp\u001b[39m.\u001b[39mmin(X)\n\u001b[1;32m   1488\u001b[0m \u001b[39mif\u001b[39;00m X_min \u001b[39m<\u001b[39m \u001b[39m0\u001b[39m:\n\u001b[0;32m-> 1489\u001b[0m     \u001b[39mraise\u001b[39;00m \u001b[39mValueError\u001b[39;00m(\u001b[39m\"\u001b[39m\u001b[39mNegative values in data passed to \u001b[39m\u001b[39m%s\u001b[39;00m\u001b[39m\"\u001b[39m \u001b[39m%\u001b[39m whom)\n",
            "\u001b[0;31mValueError\u001b[0m: Negative values in data passed to MultinomialNB (input X)"
          ]
        }
      ],
      "source": [
        "# Se crea una instancia del modelo Naive Bayes Multinomial\n",
        "from sklearn.naive_bayes import MultinomialNB\n",
        "nb = MultinomialNB()\n",
        "\n",
        "# Se entrena el modelo\n",
        "nb.fit(X_train, y_train_re)\n",
        "\n",
        "# Se realizan las predicciones\n",
        "y_pred_nb = nb.predict(X_test)\n",
        "\n",
        "# Reporte de clasificación\n",
        "from sklearn.metrics import classification_report\n",
        "print(classification_report(y_test, y_pred_nb))\n",
        "\n",
        "# Creacion y visualizacion de la matriz de confusion\n",
        "from sklearn.metrics import confusion_matrix\n",
        "import seaborn as sns\n",
        "mat = confusion_matrix(y_test, y_pred_nb)\n",
        "sns.heatmap(mat.T, square=True, annot=True, fmt='d', cbar=False)\n",
        "plt.xlabel('Valor real')\n",
        "plt.ylabel('Valor predicho')\n",
        "plt.show()\n"
      ]
    },
    {
      "cell_type": "markdown",
      "metadata": {},
      "source": [
        "### Naive Bayes Gaussiano"
      ]
    },
    {
      "cell_type": "code",
      "execution_count": null,
      "metadata": {},
      "outputs": [
        {
          "name": "stdout",
          "output_type": "stream",
          "text": [
            "              precision    recall  f1-score   support\n",
            "\n",
            "           0       0.82      0.11      0.19      1331\n",
            "           1       0.47      0.84      0.60        57\n",
            "           2       0.64      0.37      0.47       134\n",
            "           3       0.09      0.80      0.16        76\n",
            "           4       0.20      0.83      0.32        96\n",
            "           5       0.22      0.23      0.22        73\n",
            "           6       0.02      0.25      0.04         4\n",
            "           7       0.12      0.48      0.19        63\n",
            "\n",
            "    accuracy                           0.23      1834\n",
            "   macro avg       0.32      0.49      0.27      1834\n",
            "weighted avg       0.69      0.23      0.23      1834\n",
            "\n"
          ]
        },
        {
          "data": {
            "image/png": "[encoded data removed]",
            "text/plain": [
              "<Figure size 640x480 with 1 Axes>"
            ]
          },
          "metadata": {},
          "output_type": "display_data"
        }
      ],
      "source": [
        "from sklearn.naive_bayes import GaussianNB\n",
        "from sklearn.metrics import classification_report\n",
        "\n",
        "# Crea una instancia del modelo Naive Bayes\n",
        "nb = GaussianNB()\n",
        "\n",
        "# Entrena el modelo\n",
        "nb.fit(X_train, y_train_re)\n",
        "\n",
        "# Realiza predicciones\n",
        "y_pred = nb.predict(X_test)\n",
        "\n",
        "# Reporte de clasificación\n",
        "print(classification_report(y_test, y_pred))\n",
        "\n",
        "from sklearn.metrics import confusion_matrix\n",
        "import seaborn as sns\n",
        "# Matriz de confusión\n",
        "mat = confusion_matrix(y_test, y_pred)\n",
        "\n",
        "# Visualización de la matriz de confusión\n",
        "sns.heatmap(mat.T, square=True, annot=True, fmt='d', cbar=False)\n",
        "plt.xlabel('Etiquetas verdaderas')\n",
        "plt.ylabel('Etiquetas predichas')\n",
        "plt.show()\n"
      ]
    },
    {
      "cell_type": "markdown",
      "metadata": {},
      "source": []
    }
  ],
  "metadata": {
    "colab": {
      "provenance": []
    },
    "kernelspec": {
      "display_name": "Python 3",
      "name": "python3"
    },
    "language_info": {
      "codemirror_mode": {
        "name": "ipython",
        "version": 3
      },
      "file_extension": ".py",
      "mimetype": "text/x-python",
      "name": "python",
      "nbconvert_exporter": "python",
      "pygments_lexer": "ipython3",
      "version": "3.10.12"
    }
  },
  "nbformat": 4,
  "nbformat_minor": 0
}
